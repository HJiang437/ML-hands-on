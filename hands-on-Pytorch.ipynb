{
 "cells": [
  {
   "cell_type": "code",
   "execution_count": 37,
   "source": [
    "import math\r\n",
    "import os\r\n",
    "import time \r\n",
    "import torch"
   ],
   "outputs": [],
   "metadata": {}
  },
  {
   "cell_type": "markdown",
   "source": [
    "# Train, validation, and test set\r\n",
    "1. Train set: Used in the training pass to update the model.\r\n",
    "2. Validation set: Used to evaluate how the model is generalizing to the problem domain, rather than fitting to the training data; not used to update the model directly.\r\n",
    "3. Test set: A final dataset that provides a finial evaluation of the model's performance after training is complete."
   ],
   "metadata": {}
  },
  {
   "cell_type": "code",
   "execution_count": 38,
   "source": [
    "# global params\r\n",
    "batch_size_train = 32\r\n",
    "batch_size_val = 32\r\n",
    "batch_size_test = 32\r\n",
    "\r\n",
    "num_worker = 0"
   ],
   "outputs": [],
   "metadata": {}
  },
  {
   "cell_type": "code",
   "execution_count": 39,
   "source": [
    "import torchvision\r\n",
    "from torchvision import transforms\r\n",
    "from torch.utils.data import random_split, DataLoader\r\n",
    "# define a transform function\r\n",
    "# for the transform function of train dataset, we try some data augmentation tricks.\r\n",
    "train_transforms = transforms.Compose([\r\n",
    "    transforms.Resize(28), # lower the resolution\r\n",
    "    transforms.ToTensor(), # convert image data into tensor\r\n",
    "    transforms.RandomAffine(degrees=20, translate=None, scale=None, shear=None, resample=None),\r\n",
    "    transforms.Normalize(mean=(0.1307,), std=(0.3081,))\r\n",
    "])\r\n",
    "\r\n",
    "test_transforms = transforms.Compose([\r\n",
    "    transforms.Resize(28), # lower the resolution\r\n",
    "    transforms.ToTensor(), # convert image data into tensor\r\n",
    "    transforms.Normalize(mean=(0.1307,), std=(0.3081,))\r\n",
    "])\r\n",
    "\r\n",
    "# get training dataset\r\n",
    "path = os.path.join(os.getcwd(), 'datasets')\r\n",
    "train_data_path = os.path.join(path, \"train\")\r\n",
    "test_data_path = os.path.join(path, \"test\")\r\n",
    "\r\n",
    "if not os.path.exists(path):\r\n",
    "    os.mkdir(path)\r\n",
    "    os.mkdir(train_data_path)\r\n",
    "    os.mkdir(test_data_path)\r\n",
    "else:\r\n",
    "    pass\r\n",
    "\r\n",
    "# Once the dowload is finished, it won't be excuted agiain. \r\n",
    "train_data = torchvision.datasets.MNIST(root=train_data_path, train=True, transform=train_transforms, download=True)\r\n",
    "test_data = torchvision.datasets.MNIST(root=test_data_path, train=False, transform=test_transforms, download=True)\r\n",
    "\r\n",
    "# Get the validation dataset\r\n",
    "train_data, val_data = random_split(train_data, lengths=[int(0.8 * len(train_data)), int(0.2 * len(train_data))], \r\n",
    "                                    generator=torch.Generator().manual_seed(42))\r\n",
    "\r\n",
    "# To construct dataloader\r\n",
    "train_data_loader = DataLoader(dataset=train_data, \r\n",
    "                                batch_size=batch_size_train, \r\n",
    "                                shuffle=True,\r\n",
    "                                num_workers=num_worker)\r\n",
    "\r\n",
    "val_data_loader = DataLoader(dataset=val_data, \r\n",
    "                                batch_size=batch_size_val, \r\n",
    "                                shuffle=True,\r\n",
    "                                num_workers=num_worker)\r\n",
    "\r\n",
    "test_data_loader = DataLoader(dataset=test_data, \r\n",
    "                                batch_size=batch_size_test, \r\n",
    "                                shuffle=True,\r\n",
    "                                num_workers=num_worker)"
   ],
   "outputs": [],
   "metadata": {}
  },
  {
   "cell_type": "code",
   "execution_count": 40,
   "source": [
    "# visulization of the dataset\r\n",
    "examples = enumerate(train_data_loader)\r\n",
    "batch_idx, (example_data, example_targets) = next(examples)\r\n",
    "# the shape to input example_data\r\n",
    "print(f'In the {batch_idx}-th batch, the shape of loaded data: {example_data.shape} in format [batch_size, channels, width, height], \\n and the targets are in shape {example_targets.shape}')\r\n",
    "\r\n",
    "%matplotlib inline\r\n",
    "import matplotlib.pyplot as plt\r\n",
    "fig = plt.figure()\r\n",
    "for i in range(9):\r\n",
    "  plt.subplot(3,3,i+1)\r\n",
    "  plt.tight_layout()\r\n",
    "  plt.imshow(example_data[i][0], cmap='plasma', interpolation='none')\r\n",
    "  plt.title(\"True Label: {}\".format(example_targets[i]), color='#3db6e3')\r\n",
    "  plt.xticks([])\r\n",
    "  plt.yticks([])\r\n",
    "#fig.show()"
   ],
   "outputs": [
    {
     "output_type": "stream",
     "name": "stdout",
     "text": [
      "In the 0-th batch, the shape of loaded data: torch.Size([32, 1, 28, 28]) in format [batch_size, channels, width, height], \n",
      " and the targets are in shape torch.Size([32])\n"
     ]
    },
    {
     "output_type": "display_data",
     "data": {
      "image/png": "[encoded data removed]",
      "text/plain": [
       "<Figure size 432x288 with 9 Axes>"
      ]
     },
     "metadata": {}
    }
   ],
   "metadata": {}
  },
  {
   "cell_type": "code",
   "execution_count": 41,
   "source": [
    "# training params:\r\n",
    "epochs = 20\r\n",
    "lr = 0.01"
   ],
   "outputs": [],
   "metadata": {}
  },
  {
   "cell_type": "code",
   "execution_count": 42,
   "source": [
    "# Models\r\n",
    "# full-connected neural network\r\n",
    "import torch.nn as nn\r\n",
    "import torch.nn.functional as F\r\n",
    "import torch.optim as optim \r\n",
    "\r\n",
    "class FC_Net(nn.Module):\r\n",
    "    def __init__(self):\r\n",
    "        super().__init__()\r\n",
    "        self.fc1 = nn.Linear(784, 64)\r\n",
    "        self.fc2 = nn.Linear(64, 32)\r\n",
    "        self.fc3 = nn.Linear(32, 10)\r\n",
    "    \r\n",
    "    def forward(self, x):\r\n",
    "        x = x.view(-1, 784)\r\n",
    "        x = F.relu(self.fc1(x))\r\n",
    "        x = F.relu(self.fc2(x))\r\n",
    "        x = F.softmax(self.fc3(x), dim=1)\r\n",
    "        return x\r\n",
    "\r\n",
    "# for CNN the output size is sepcified as:\r\n",
    "# output_size = (input_size - kernel_size + 2 * padding) / stride + 1\r\n",
    "class CONV_Net(nn.Module):\r\n",
    "    def __init__(self):\r\n",
    "        super().__init__()\r\n",
    "        self.conv1 = nn.Conv2d(in_channels=1, \r\n",
    "                            out_channels=10,\r\n",
    "                            kernel_size=3,\r\n",
    "                            stride=1,\r\n",
    "                            padding=1)\r\n",
    "        self.pool = nn.MaxPool2d(2, 2) # size=2, stride=2\r\n",
    "        self.conv2 = nn.Conv2d(10, 20, kernel_size=3, stride=1, padding=1)\r\n",
    "        self.fc1 = nn.Linear(20*7*7, 512)\r\n",
    "        self.fc2 = nn.Linear(512, 64)\r\n",
    "        self.fc3 = nn.Linear(64, 10)\r\n",
    "\r\n",
    "        self.droupout = nn.Dropout(p=0.3)\r\n",
    "\r\n",
    "    def forward(self, x):\r\n",
    "        x = F.relu(self.conv1(x))\r\n",
    "        x = self.pool(x)\r\n",
    "        x = F.relu(self.conv2(x))\r\n",
    "        x = self.pool(x)\r\n",
    "\r\n",
    "        x = torch.flatten(x, 1)\r\n",
    "        x = F.relu(self.fc1(x))\r\n",
    "        x = self.droupout(x)\r\n",
    "        x = F.relu(self.fc2(x))\r\n",
    "        x = F.softmax(self.fc3(x), dim=1)\r\n",
    "        return x\r\n",
    "\r\n",
    "class Net(nn.Module):\r\n",
    "    def __init__(self):\r\n",
    "        super(Net, self).__init__()\r\n",
    "        self.conv1 = nn.Conv2d(1, 10, kernel_size=5)\r\n",
    "        self.conv2 = nn.Conv2d(10, 20, kernel_size=5)\r\n",
    "        self.conv2_drop = nn.Dropout2d()\r\n",
    "        self.fc1 = nn.Linear(320, 50)\r\n",
    "        self.fc2 = nn.Linear(50, 10)\r\n",
    "    def forward(self, x):\r\n",
    "        x = F.relu(F.max_pool2d(self.conv1(x), 2))\r\n",
    "        x = F.relu(F.max_pool2d(self.conv2_drop(self.conv2(x)), 2))\r\n",
    "        x = x.view(-1, 320)\r\n",
    "        x = F.relu(self.fc1(x))\r\n",
    "        x = F.dropout(x, training=self.training)\r\n",
    "        x = self.fc2(x)\r\n",
    "        return F.log_softmax(x, dim=1)\r\n"
   ],
   "outputs": [],
   "metadata": {}
  },
  {
   "cell_type": "code",
   "execution_count": 43,
   "source": [
    "epochs = 1\r\n",
    "lr = 0.01\r\n",
    "log_interval = 100\r\n",
    "val_interval = 150"
   ],
   "outputs": [],
   "metadata": {}
  },
  {
   "cell_type": "code",
   "execution_count": 44,
   "source": [
    "# choose cpu or gpu to train the model\r\n",
    "device = torch.device(\"cuda\" if torch.cuda.is_available() else \"cpu\")\r\n",
    "model = Net()\r\n",
    "optimizer = optim.Adam(model.parameters(), lr=lr)"
   ],
   "outputs": [],
   "metadata": {}
  },
  {
   "cell_type": "markdown",
   "source": [
    "# Some tricks when using Tensorboard\r\n",
    "1. ``tensorboard --logdir=<log file directory> --host=127.0.0.2`` is useful when localhost is not working.\r\n",
    "2. ``tensorboard --inspect --logdir <log file directory>`` is used when checking whether summary_writer finished its job."
   ],
   "metadata": {}
  },
  {
   "cell_type": "code",
   "execution_count": 45,
   "source": [
    "# init a SummaryWriter and Visualization\r\n",
    "model = model.cpu()\r\n",
    "from torch.utils.tensorboard import SummaryWriter\r\n",
    "tb = SummaryWriter(\"logs/mnist_log\")\r\n",
    "example_images, exmple_labels = next(iter(train_data_loader)) # initialize the network structure. \r\n",
    "grid = torchvision.utils.make_grid(example_images)\r\n",
    "tb.add_image('example_images', grid)\r\n",
    "tb.add_graph(model, example_images)"
   ],
   "outputs": [],
   "metadata": {}
  },
  {
   "cell_type": "code",
   "execution_count": 46,
   "source": [
    "begin_time = time.time()\r\n",
    "model = model.cuda()\r\n",
    "# training session: \r\n",
    "for epoch in range(epochs):\r\n",
    "    model.train()\r\n",
    "    for idx, batch in enumerate(train_data_loader):\r\n",
    "        data, target = batch \r\n",
    "        data = data.to(device) # which is similar as data = data.cuda()\r\n",
    "        target = target.to(device)\r\n",
    "        idx_target = target.clone()\r\n",
    "\r\n",
    "        optimizer.zero_grad()\r\n",
    "        logit = model(data)\r\n",
    "        loss = F.cross_entropy(logit, target)\r\n",
    "        loss.backward()\r\n",
    "        optimizer.step()\r\n",
    "        tb.add_scalar('train_loss', loss.cpu(), epoch * len(train_data_loader.dataset) + idx)\r\n",
    "\r\n",
    "        if idx % log_interval == 0 and idx > 0:\r\n",
    "          success_pred = torch.eq(torch.argmax(logit, dim=1).view(-1), idx_target).sum()\r\n",
    "          acc = success_pred.cpu()/len(data) # len(data) will return the first dimension of data tesnor\r\n",
    "          print('Train Epoch: {} [{}/{}] Loss: {:.6f} Acc: {:.4f}'.format(\r\n",
    "                    epoch, idx * len(data), len(train_data_loader.dataset),\r\n",
    "                    loss, acc))\r\n",
    "          \r\n",
    "          tb.add_scalar('train_acc', acc, epoch * len(train_data_loader.dataset) + idx)\r\n",
    "          tb.add_histogram('conv1.weight', model.conv1.weight, epoch * len(train_data_loader.dataset) + idx)\r\n",
    "          tb.add_histogram('conv2.weight', model.conv2.weight, epoch * len(train_data_loader.dataset) + idx)\r\n",
    "          tb.add_histogram('fc1.weight', model.fc1.weight, epoch * len(train_data_loader.dataset) + idx)\r\n",
    "          tb.add_histogram('fc2.weight', model.fc2.weight, epoch * len(train_data_loader.dataset) + idx)\r\n",
    "        \r\n",
    "        if idx % val_interval == 0 and idx > 0:\r\n",
    "          model.eval()\r\n",
    "          val_loss = 0.0\r\n",
    "          csuccess_pred = 0\r\n",
    "          with torch.no_grad():\r\n",
    "            for batch in val_data_loader:\r\n",
    "              data, target = batch\r\n",
    "              data, target = data.to(device), target.to(device)\r\n",
    "              output = model(data) # the model is on cuda.\r\n",
    "              val_loss += F.cross_entropy(output, target).cpu().item()\r\n",
    "              success_pred += torch.eq(torch.argmax(logit, dim=1).view(-1), idx_target).sum()\r\n",
    "          val_loss /= len(val_data_loader.dataset)\r\n",
    "          acc = success_pred.cpu() / len(val_data_loader.dataset)\r\n",
    "          print('Validation Epoch: {} [{}/{}] Loss: {:.6f} Acc: {:.4f}'.format(epoch, idx * len(data), \r\n",
    "                      len(val_data_loader.dataset), val_loss, acc))\r\n",
    "\r\n",
    "          tb.add_scalar('val_loss', val_loss, epoch * len(val_data_loader.dataset) + idx)\r\n",
    "          tb.add_scalar('val_acc', acc, epoch * len(val_data_loader.dataset) + idx)\r\n",
    "\r\n",
    "print('Train process is finished. Time elpse is {:.4f} s.'.format(time.time()-begin_time))\r\n",
    "tb.close()"
   ],
   "outputs": [
    {
     "output_type": "stream",
     "name": "stdout",
     "text": [
      "Train Epoch: 0 [3200/48000] Loss: 1.615074 Acc: 0.4375\n",
      "Validation Epoch: 0 [4800/12000] Loss: 0.027328 Acc: 0.3762\n",
      "Train Epoch: 0 [6400/48000] Loss: 0.242764 Acc: 0.8750\n",
      "Train Epoch: 0 [9600/48000] Loss: 0.185270 Acc: 0.9062\n",
      "Validation Epoch: 0 [9600/12000] Loss: 0.009380 Acc: 0.9087\n",
      "Train Epoch: 0 [12800/48000] Loss: 0.120254 Acc: 0.9375\n",
      "Validation Epoch: 0 [14400/12000] Loss: 0.008894 Acc: 1.0025\n",
      "Train Epoch: 0 [16000/48000] Loss: 0.164745 Acc: 0.9375\n",
      "Train Epoch: 0 [19200/48000] Loss: 0.351745 Acc: 0.8750\n",
      "Validation Epoch: 0 [19200/12000] Loss: 0.007060 Acc: 0.8773\n",
      "Train Epoch: 0 [22400/48000] Loss: 0.093623 Acc: 0.9375\n",
      "Validation Epoch: 0 [24000/12000] Loss: 0.006539 Acc: 0.9712\n",
      "Train Epoch: 0 [25600/48000] Loss: 0.420970 Acc: 0.9062\n",
      "Train Epoch: 0 [28800/48000] Loss: 0.116511 Acc: 0.9688\n",
      "Validation Epoch: 0 [28800/12000] Loss: 0.007352 Acc: 0.9713\n",
      "Train Epoch: 0 [32000/48000] Loss: 0.088041 Acc: 0.9688\n",
      "Validation Epoch: 0 [33600/12000] Loss: 0.005640 Acc: 0.9713\n",
      "Train Epoch: 0 [35200/48000] Loss: 0.354214 Acc: 0.9062\n",
      "Train Epoch: 0 [38400/48000] Loss: 0.589837 Acc: 0.9062\n",
      "Validation Epoch: 0 [38400/12000] Loss: 0.006952 Acc: 0.9087\n",
      "Train Epoch: 0 [41600/48000] Loss: 0.016297 Acc: 1.0000\n",
      "Validation Epoch: 0 [43200/12000] Loss: 0.006333 Acc: 0.9714\n",
      "Train Epoch: 0 [44800/48000] Loss: 0.106126 Acc: 0.9375\n",
      "Train Epoch: 1 [3200/48000] Loss: 0.981969 Acc: 0.6875\n",
      "Validation Epoch: 1 [4800/12000] Loss: 0.016466 Acc: 0.6893\n",
      "Train Epoch: 1 [6400/48000] Loss: 0.204851 Acc: 0.9375\n",
      "Train Epoch: 1 [9600/48000] Loss: 0.546161 Acc: 0.8750\n",
      "Validation Epoch: 1 [9600/12000] Loss: 0.006362 Acc: 0.8773\n",
      "Train Epoch: 1 [12800/48000] Loss: 0.115630 Acc: 0.9688\n",
      "Validation Epoch: 1 [14400/12000] Loss: 0.005779 Acc: 0.9713\n",
      "Train Epoch: 1 [16000/48000] Loss: 0.170597 Acc: 0.9062\n",
      "Train Epoch: 1 [19200/48000] Loss: 0.144732 Acc: 0.9688\n",
      "Validation Epoch: 1 [19200/12000] Loss: 0.005413 Acc: 0.9713\n",
      "Train Epoch: 1 [22400/48000] Loss: 0.023433 Acc: 1.0000\n",
      "Validation Epoch: 1 [24000/12000] Loss: 0.006066 Acc: 0.9402\n",
      "Train Epoch: 1 [25600/48000] Loss: 0.040870 Acc: 1.0000\n",
      "Train Epoch: 1 [28800/48000] Loss: 0.420177 Acc: 0.9375\n",
      "Validation Epoch: 1 [28800/12000] Loss: 0.006074 Acc: 0.9400\n",
      "Train Epoch: 1 [32000/48000] Loss: 0.343135 Acc: 0.8750\n",
      "Validation Epoch: 1 [33600/12000] Loss: 0.004641 Acc: 0.9711\n",
      "Train Epoch: 1 [35200/48000] Loss: 0.082200 Acc: 0.9375\n",
      "Train Epoch: 1 [38400/48000] Loss: 0.076431 Acc: 0.9688\n",
      "Validation Epoch: 1 [38400/12000] Loss: 0.005102 Acc: 0.9713\n",
      "Train Epoch: 1 [41600/48000] Loss: 0.162554 Acc: 0.9375\n",
      "Validation Epoch: 1 [43200/12000] Loss: 0.005384 Acc: 1.0025\n",
      "Train Epoch: 1 [44800/48000] Loss: 0.164677 Acc: 0.9688\n",
      "Train Epoch: 2 [3200/48000] Loss: 1.023725 Acc: 0.6250\n",
      "Validation Epoch: 2 [4800/12000] Loss: 0.015653 Acc: 0.6267\n",
      "Train Epoch: 2 [6400/48000] Loss: 0.140032 Acc: 0.9688\n",
      "Train Epoch: 2 [9600/48000] Loss: 0.058817 Acc: 1.0000\n",
      "Validation Epoch: 2 [9600/12000] Loss: 0.006755 Acc: 1.0027\n",
      "Train Epoch: 2 [12800/48000] Loss: 0.025588 Acc: 1.0000\n",
      "Validation Epoch: 2 [14400/12000] Loss: 0.005878 Acc: 1.0027\n",
      "Train Epoch: 2 [16000/48000] Loss: 0.141358 Acc: 0.9375\n",
      "Train Epoch: 2 [19200/48000] Loss: 0.043383 Acc: 1.0000\n",
      "Validation Epoch: 2 [19200/12000] Loss: 0.005521 Acc: 1.0027\n",
      "Train Epoch: 2 [22400/48000] Loss: 0.012841 Acc: 1.0000\n",
      "Validation Epoch: 2 [24000/12000] Loss: 0.005368 Acc: 0.9402\n",
      "Train Epoch: 2 [25600/48000] Loss: 0.014723 Acc: 1.0000\n",
      "Train Epoch: 2 [28800/48000] Loss: 0.744266 Acc: 0.8438\n",
      "Validation Epoch: 2 [28800/12000] Loss: 0.004995 Acc: 0.8460\n",
      "Train Epoch: 2 [32000/48000] Loss: 0.057247 Acc: 1.0000\n",
      "Validation Epoch: 2 [33600/12000] Loss: 0.005764 Acc: 0.9402\n",
      "Train Epoch: 2 [35200/48000] Loss: 0.129798 Acc: 0.9688\n",
      "Train Epoch: 2 [38400/48000] Loss: 0.132427 Acc: 0.9375\n",
      "Validation Epoch: 2 [38400/12000] Loss: 0.005407 Acc: 0.9400\n",
      "Train Epoch: 2 [41600/48000] Loss: 0.180658 Acc: 0.9688\n",
      "Validation Epoch: 2 [43200/12000] Loss: 0.005762 Acc: 0.9088\n",
      "Train Epoch: 2 [44800/48000] Loss: 0.320273 Acc: 0.9375\n",
      "Train process is finished. Time elpse is 242.3639 s.\n"
     ]
    }
   ],
   "metadata": {}
  },
  {
   "cell_type": "code",
   "execution_count": 47,
   "source": [
    "# Give a glance at the training tesults\r\n",
    "examples = enumerate(test_data_loader)\r\n",
    "_, (example_data, _) = next(examples)\r\n",
    "with torch.no_grad():\r\n",
    "  pred = model(example_data.cuda()).cpu()\r\n",
    "pred = torch.argmax(pred, dim=1)\r\n",
    "\r\n",
    "%matplotlib inline\r\n",
    "import matplotlib.pyplot as plt\r\n",
    "fig = plt.figure()\r\n",
    "for i in range(9):\r\n",
    "  plt.subplot(3,3,i+1)\r\n",
    "  plt.tight_layout()\r\n",
    "  plt.imshow(example_data[i][0], cmap='plasma', interpolation='none')\r\n",
    "  plt.title(\"Predicted Label: {}\".format(pred[i]), color='#3db6e3')\r\n",
    "  plt.xticks([])\r\n",
    "  plt.yticks([])"
   ],
   "outputs": [
    {
     "output_type": "display_data",
     "data": {
      "image/png": "[encoded data removed]",
      "text/plain": [
       "<Figure size 432x288 with 9 Axes>"
      ]
     },
     "metadata": {}
    }
   ],
   "metadata": {}
  },
  {
   "cell_type": "code",
   "execution_count": 48,
   "source": [
    "# model test\r\n",
    "model.eval()\r\n",
    "test_loss = 0\r\n",
    "success_pred = 0\r\n",
    "with torch.no_grad():\r\n",
    "  for data, target in test_data_loader:\r\n",
    "    data, target = data.to(device), target.to(device)\r\n",
    "    output = model(data)\r\n",
    "    success_pred += torch.eq(torch.argmax(output, dim=1).view(-1), target).sum()\r\n",
    "print('Test set: Accuracy: {}/{} ({:.0f}%)'.format(\r\n",
    "  success_pred, len(test_data_loader.dataset), 100. * success_pred / len(test_data_loader.dataset)))"
   ],
   "outputs": [
    {
     "output_type": "stream",
     "name": "stdout",
     "text": [
      "Test set: Accuracy: 9673/10000 (97%)\n"
     ]
    }
   ],
   "metadata": {}
  }
 ],
 "metadata": {
  "orig_nbformat": 4,
  "language_info": {
   "name": "python",
   "version": "3.6.13",
   "mimetype": "text/x-python",
   "codemirror_mode": {
    "name": "ipython",
    "version": 3
   },
   "pygments_lexer": "ipython3",
   "nbconvert_exporter": "python",
   "file_extension": ".py"
  },
  "kernelspec": {
   "name": "python3",
   "display_name": "Python 3.6.13 64-bit ('my_pytorch_backup': conda)"
  },
  "interpreter": {
   "hash": "518680269ef72fa4f3c10b8f8c0b5d7c2eae51f0f37cd195be60d5642ef7742b"
  }
 },
 "nbformat": 4,
 "nbformat_minor": 2
}